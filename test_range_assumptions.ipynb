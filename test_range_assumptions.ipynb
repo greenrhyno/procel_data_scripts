{
 "cells": [
  {
   "cell_type": "code",
   "execution_count": 1,
   "metadata": {},
   "outputs": [],
   "source": [
    "from os.path import dirname, abspath, join as pjoin\n",
    "from os import makedirs, mkdir\n",
    "import scipy.io as sio\n",
    "from pathlib import Path\n",
    "import numpy as np\n",
    "from sklearn.decomposition import PCA\n",
    "\n",
    "data = sio.loadmat('/Users/ryangreen/Desktop/Procedure Learning Research/procel_example_data/assemble_clarinet/data.mat')\n",
    "\n"
   ]
  },
  {
   "cell_type": "code",
   "execution_count": 2,
   "metadata": {},
   "outputs": [
    {
     "name": "stdout",
     "output_type": "stream",
     "text": [
      "dict_keys(['__header__', '__version__', '__globals__', 'feature_hofs_sf', 'superframe_time', 'grammar', 'feature_hofs_15', 'caption_frame', 'new_index', 'framerate', 'caption_time', 'caption', 'feature_vgg', 'feature_c3d', 'key_steps_time', 'key_steps', 'feature_hofa_15', 'key_steps_frame', 'superframe_frame', 'feature'])\n"
     ]
    }
   ],
   "source": [
    "print(data.keys())"
   ]
  },
  {
   "cell_type": "code",
   "execution_count": 48,
   "metadata": {},
   "outputs": [],
   "source": [
    "def detect_range_overlaps(print_ranges = False):\n",
    "    zero_idxs = 0\n",
    "    last_plus_one_idxs = 0\n",
    "    overlapping_ranges = 0\n",
    "    identical_ranges = 0\n",
    "\n",
    "    video_idx = 0\n",
    "    for video in data['key_steps'][:,0]:\n",
    "        num_superframes = data['superframe_frame'][video_idx][0].shape[0]\n",
    "    #     print(num_superframes)\n",
    "\n",
    "        sorted_ranges = sorted([r.tolist() for key_step in video for r in key_step[0]], key=lambda rg: rg[0])\n",
    "        if print_ranges:\n",
    "            print('Video #', video_idx, '\\n', sorted_ranges, '\\n')\n",
    "        \n",
    "        last_start_idx = None\n",
    "        last_end_idx = None\n",
    "        rng_idx = 0\n",
    "        for rng in sorted_ranges:\n",
    "            if rng_idx > 0:\n",
    "                if rng[0] <= last_end_idx: \n",
    "                    overlapping_ranges += 1\n",
    "                if rng[1] >= num_superframes: \n",
    "                    last_plus_one_idxs += 1\n",
    "                if rng[0] == last_start_idx and rng[1] == last_end_idx:\n",
    "                    identical_ranges += 1\n",
    "            else:\n",
    "                if rng[0] == 0: \n",
    "                    zero_idxs += 1\n",
    "            last_end_idx = rng[1]\n",
    "            last_start_idx = rng[0]\n",
    "            rng_idx += 1\n",
    "\n",
    "        video_idx += 1\n",
    "        \n",
    "    print('Zero Indexes %d' %(zero_idxs), '\\n')\n",
    "    print('Out of bounds indexes %d' %(last_plus_one_idxs), '\\n')\n",
    "    print('Overlapping ranges %d' %(overlapping_ranges), '\\n')\n",
    "    print('Identical ranges %d' %(identical_ranges), '\\n')\n",
    "            \n"
   ]
  },
  {
   "cell_type": "code",
   "execution_count": 49,
   "metadata": {},
   "outputs": [
    {
     "name": "stdout",
     "output_type": "stream",
     "text": [
      "Zero Indexes 0 \n",
      "\n",
      "Out of bounds indexes 9 \n",
      "\n",
      "Overlapping ranges 41 \n",
      "\n",
      "Identical ranges 1 \n",
      "\n"
     ]
    }
   ],
   "source": [
    "detect_range_overlaps()"
   ]
  }
 ],
 "metadata": {
  "kernelspec": {
   "display_name": "Python 3",
   "language": "python",
   "name": "python3"
  },
  "language_info": {
   "codemirror_mode": {
    "name": "ipython",
    "version": 3
   },
   "file_extension": ".py",
   "mimetype": "text/x-python",
   "name": "python",
   "nbconvert_exporter": "python",
   "pygments_lexer": "ipython3",
   "version": "3.6.5"
  }
 },
 "nbformat": 4,
 "nbformat_minor": 2
}
